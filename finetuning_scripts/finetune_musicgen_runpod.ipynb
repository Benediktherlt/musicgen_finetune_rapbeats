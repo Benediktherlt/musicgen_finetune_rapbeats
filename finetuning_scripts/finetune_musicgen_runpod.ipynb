{
  "cells": [
    {
      "cell_type": "markdown",
      "source": [
        "# **All of the following codelines have to be executed in a terminal connected to a Runpod.io instance. This colab notebook is just to showcase code. Runpod instances run on linux which is why basic linux knowledge is required**"
      ],
      "metadata": {
        "id": "zb4ny0zkdbEg"
      }
    },
    {
      "cell_type": "markdown",
      "source": [
        "* fork the audiocraft github repo and comment out lines 478-487 in audiocraft/\n",
        "audiocraft/solvers/base.py\n",
        "*then clone your forked repo into your runpod.io instance (you can directly use my forked repo below, so you can skip the forking step)\n",
        "*also install all dependencies"
      ],
      "metadata": {
        "id": "8UWKIJiXeA62"
      }
    },
    {
      "cell_type": "code",
      "execution_count": null,
      "metadata": {
        "id": "enkrtCxqO3Ul"
      },
      "outputs": [],
      "source": [
        "!git clone https://github.com/Benediktherlt/audiocraft.git\n",
        "%cd audiocraft\n",
        "!pip install -e .\n",
        "!pip install dora-search\n",
        "!pip install jsonlines\n",
        "!pip install -r requirements.txt"
      ]
    },
    {
      "cell_type": "markdown",
      "source": [
        "\n",
        "\n",
        "*   then you have to put all of your loose music chunks in drive into a zip using !zip -r ...\n",
        "* afterwards download the .jsonl`s that contain the metadata and point to your music_chunks using gdown\n",
        "\n"
      ],
      "metadata": {
        "id": "eoL8L5NedaIZ"
      }
    },
    {
      "cell_type": "markdown",
      "source": [],
      "metadata": {
        "id": "mi2CX-NUd2l9"
      }
    },
    {
      "cell_type": "code",
      "source": [
        "from google.colab import drive\n",
        "drive.mount('/content/drive')\n",
        "\n",
        "%cd /content/drive/MyDrive/samples/train_datasets\n",
        "\n",
        "\n",
        "mkdir -p /workspace/audiocraft/data\n",
        "cd /workspace/audiocraft/data\n",
        "\n",
        "#we want to exclude the dir`s original and audiocraft since we only want to zip music_chunks not dirs\n",
        "!zip -r /content/drive/MyDrive/samples/train_datasets/music_chunks.zip . -x \"./original/*\" \"./audiocraft/*\"\n",
        "\n",
        "#unzip the data music chunks into a new /dataset subfolder\n",
        "mkdir -p /workspace/dataset\n",
        "cd /workspace/dataset\n",
        "\n",
        "unzip /workspace/audiocraft/data/music_chunks.zip -d /workspace/audiocraft/data\n",
        "\n",
        "\n",
        "!pip install gdown\n",
        "\n",
        "mkdir -p /workspace/audiocraft/egs/train\n",
        "mkdir -p /workspace/audiocraft/egs/eval\n",
        "\n",
        "#you can find the file id´s in drive by right-clicking on the file => copy link => paste link in search-bar => cut ID-part from link\n",
        "gdown --id \"YOUR FILE ID\" -O /workspace/audiocraft/egs/train/\n",
        "gdown --id \"YOUR FILE ID\" -O /workspace/audiocraft/egs/eval/\n"
      ],
      "metadata": {
        "id": "OrdJ6aXjsJRl"
      },
      "execution_count": null,
      "outputs": []
    },
    {
      "cell_type": "markdown",
      "source": [
        "\n",
        "\n",
        "*   a problem that we face now is that the pointers of every json-object in the .jsonl still point to a \"/content/drive/MyDrive/samples/train_datasets\" folder while in runpod they are located at \"/workspace/audiocraft/egs/train\" (and \"./eval\" respectively ;))\n",
        "*   so we have to use a script that iterates through the pointers and replaces them with the new file_path\n",
        "\n",
        "\n"
      ],
      "metadata": {
        "id": "WirmyStiiI3h"
      }
    },
    {
      "cell_type": "code",
      "source": [
        "#create a update_paths.py file\n",
        "vim update_paths.py\n",
        "\n",
        "#insert below code by first pressing \"i\" then pasting then pressing \"esc\" (just in case u never used vim before ;))\n",
        "[\n",
        "import json\n",
        "import os\n",
        "import re\n",
        "\n",
        "def update_jsonl_paths(jsonl_path, new_base_path):\n",
        "\tupdated_entries = []\n",
        "\tpath_regex = re.compile(r'/content/drive/MyDrive/samples/train_datasets/.*')\n",
        "\n",
        "\twith open(jsonl_path, 'r') as f:\n",
        "\t    for line in f:\n",
        "\t        entry = json.loads(line)\n",
        "\t        if path_regex.match(entry['path']):\n",
        "\t            filename = os.path.basename(entry['path'])\n",
        "\t            new_path = os.path.join(new_base_path, filename)\n",
        "\t            entry['path'] = new_path\n",
        "\t        updated_entries.append(entry)\n",
        "\n",
        "\twith open(jsonl_path, 'w') as f:\n",
        "\t    for entry in updated_entries:\n",
        "\t        f.write(json.dumps(entry) + '\\\\n')\n",
        "\n",
        "train_jsonl_path = '/workspace/audiocraft/egs/train/data.jsonl'\n",
        "eval_jsonl_path = '/workspace/audiocraft/egs/eval/data.jsonl'\n",
        "\n",
        "new_base_path = '/workspace/audiocraft/config/dset/audio/'\n",
        "\n",
        "update_jsonl_paths(train_jsonl_path, new_base_path)\n",
        "update_jsonl_paths(eval_jsonl_path, new_base_path)\n",
        "]\n",
        "\n",
        "#close and save swap-file\n",
        ":wq\n",
        "\n",
        "#run file\n",
        "python3 update_paths.py"
      ],
      "metadata": {
        "id": "BMyHTNqPjKMs"
      },
      "execution_count": null,
      "outputs": []
    },
    {
      "cell_type": "markdown",
      "source": [
        "\n",
        "\n",
        "*   now we have to create the train.yaml at /workspace/audiocraft/config/dset/audio/\n",
        "*   it has to be in this place because otherwise the dora solver can´t execute the finetune run\n",
        "\n"
      ],
      "metadata": {
        "id": "WdLPh9I2j_dQ"
      }
    },
    {
      "cell_type": "code",
      "source": [
        "#create a train.yaml file\n",
        "cd /workspace/audiocraft/config/dset/audio/\n",
        "vim train.yaml\n",
        "\n",
        "#insert below code by first pressing \"i\" then pasting then pressing \"esc\"\n",
        "[\n",
        "datasource:\n",
        "  max_channels: 2\n",
        "  max_sample_rate: 44100\n",
        "\n",
        "evaluate: /workspace/audiocraft/egs/eval\n",
        "generate: /workspace/audiocraft/egs/train\n",
        "train: /workspace/audiocraft/egs/train\n",
        "valid: /workspace/audiocraft/egs/eval\n",
        "\n",
        "fsdp:\n",
        "use: true\n",
        "\n",
        "autocast: false\n",
        "]\n",
        "\n",
        "#close and save swap-file\n",
        ":wq"
      ],
      "metadata": {
        "id": "hBcyYVg1kbBz"
      },
      "execution_count": null,
      "outputs": []
    },
    {
      "cell_type": "markdown",
      "source": [
        "Now you should basically be good to go, execute below command and enjoy ;)"
      ],
      "metadata": {
        "id": "Owa9L-3Ck1dt"
      }
    },
    {
      "cell_type": "code",
      "execution_count": null,
      "metadata": {
        "id": "fcQnvAzUP5cb"
      },
      "outputs": [],
      "source": [
        "\n",
        "%env USER=root #you can also create your own user in Runpod but be aware that you have to specify a new /workspace folder in your own user\n",
        "command = (\n",
        "    \"dora -P audiocraft run -d \"\n",
        "    \" solver=musicgen/musicgen_base_32khz\"\n",
        "    \" model/lm/model_scale=large\"\n",
        "    \" continue_from=//pretrained/facebook/musicgen-large\"\n",
        "    \" conditioner=text2music\"\n",
        "    \" dset=audio/train\"\n",
        "    \" dataset.num_workers=2\"\n",
        "    \" dataset.valid.num_samples=1\"\n",
        "    \" dataset.batch_size=4\"\n",
        "    \" schedule.cosine.warmup=8\"\n",
        "    \" optim.optimizer=adamw\"\n",
        "    \" optim.lr=1e-4\"\n",
        "    \" optim.epochs=5\"\n",
        "    \" optim.adam.weight_decay=0.01\"\n",
        "    \" fsdp.use=true\"\n",
        "    \" autocast=false\"\n",
        ")\n",
        "!{command}\n"
      ]
    },
    {
      "cell_type": "markdown",
      "source": [
        "when you are finished with your training run execute below code in a python-file to access your finetuned weights"
      ],
      "metadata": {
        "id": "ZRU27PJwlLdn"
      }
    },
    {
      "cell_type": "code",
      "execution_count": null,
      "metadata": {
        "id": "vVY3-H75UOXK"
      },
      "outputs": [],
      "source": [
        "#create a access_weights.py-file\n",
        "vim access_weights.py\n",
        "\n",
        "#insert below code by first pressing \"i\" then pasting then pressing \"esc\"\n",
        "[\n",
        "folder_to_save_checkpoints_in = \"/workspace/checkpoint\"\n",
        "os.makedirs(folder_to_save_checkpoints_in, exist_ok=True)\n",
        "\n",
        "import os\n",
        "root_dir = \"/tmp/audiocraft_root/xps/\"\n",
        "subfolders = [d for d in os.listdir(root_dir) if os.path.isdir(os.path.join(root_dir, d))]\n",
        "joined_paths = [os.path.join(root_dir, subfolder) for subfolder in subfolders]\n",
        "SIG = max(joined_paths, key=os.path.getmtime)\n",
        "\n",
        "from audiocraft.utils import export\n",
        "from audiocraft import train\n",
        "xp = train.main.get_xp_from_sig(SIG)\n",
        "export.export_lm(xp.folder / 'checkpoint.th', os.path.join(folder_to_save_checkpoints_in, 'state_dict.bin'))\n",
        "export.export_pretrained_compression_model('facebook/encodec_32khz', os.path.join(folder_to_save_checkpoints_in, 'compression_state_dict.bin'))\n",
        "]\n",
        "\n",
        "#close and save swap-file\n",
        ":wq\n",
        "\n",
        "#run file\n",
        "python3 access_weights.py"
      ]
    }
  ],
  "metadata": {
    "colab": {
      "provenance": []
    },
    "kernelspec": {
      "display_name": "Python 3",
      "name": "python3"
    },
    "language_info": {
      "name": "python"
    }
  },
  "nbformat": 4,
  "nbformat_minor": 0
}